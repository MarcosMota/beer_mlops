{
 "cells": [
  {
   "cell_type": "code",
   "execution_count": 1,
   "metadata": {},
   "outputs": [],
   "source": [
    "from src.dataset import load_data, collect_samples\n",
    "import argparse\n",
    "import os\n",
    "import requests\n",
    "import tempfile\n",
    "import numpy as np\n",
    "import pandas as pd\n",
    "import boto3\n",
    "\n",
    "from sklearn.compose import ColumnTransformer\n",
    "from sklearn.impute import SimpleImputer\n",
    "from sklearn.pipeline import Pipeline\n",
    "from sklearn.preprocessing import StandardScaler, OneHotEncoder\n",
    "\n",
    "from src.dataset import collect_samples, load_data\n",
    "\n",
    "from src.utils import merge_two_dicts"
   ]
  },
  {
   "cell_type": "code",
   "execution_count": 3,
   "metadata": {},
   "outputs": [],
   "source": [
    "columns_names = [\n",
    "    \"target_fg\",\n",
    "    \"target_og\",\n",
    "    \"ebc\",\n",
    "    \"srm\",\n",
    "    \"ph\",\n",
    "]\n",
    "label_column = \"ibu\"\n",
    "\n",
    "columns_dtype = {\n",
    "    \"target_fg\": np.float64,\n",
    "    \"target_og\": np.float64,\n",
    "    \"ebc\": np.float64,\n",
    "    \"srm\": np.float64,\n",
    "    \"ph\": np.float64,\n",
    "}\n",
    "label_column_dtype = {\"ibu\": np.float64}"
   ]
  },
  {
   "cell_type": "code",
   "execution_count": 4,
   "metadata": {},
   "outputs": [],
   "source": [
    "df = pd.read_csv('../data/dataset.csv')\n",
    "df = df[columns_names + [label_column]]\n",
    "df = df.dropna(subset=[label_column])"
   ]
  },
  {
   "cell_type": "code",
   "execution_count": 5,
   "metadata": {},
   "outputs": [],
   "source": [
    "numeric_transformer = Pipeline(\n",
    "    steps=[\n",
    "        (\"imputer\", SimpleImputer(strategy=\"median\")),\n",
    "        (\"scaler\", StandardScaler())\n",
    "    ]\n",
    ")\n",
    "\n",
    "preprocess = ColumnTransformer(\n",
    "    transformers=[\n",
    "        (\"num\", numeric_transformer, columns_names),\n",
    "    ]\n",
    ")"
   ]
  },
  {
   "cell_type": "code",
   "execution_count": 6,
   "metadata": {},
   "outputs": [],
   "source": [
    "y = df.pop(label_column)\n",
    "X_pre = preprocess.fit_transform(df)\n",
    "y_pre = y.to_numpy().reshape(len(y), 1)\n",
    "\n",
    "X = np.concatenate((y_pre, X_pre), axis=1)\n",
    "\n",
    "np.random.shuffle(X)\n",
    "train, validation, test = np.split(X, [int(.7 * len(X)), int(.85 * len(X))])"
   ]
  },
  {
   "cell_type": "code",
   "execution_count": 7,
   "metadata": {},
   "outputs": [],
   "source": [
    "pd.DataFrame(train).to_csv(f\"../data/train.csv\", header=False, index=False)\n",
    "pd.DataFrame(validation).to_csv(f\"../data/validation.csv\", header=False, index=False)\n",
    "pd.DataFrame(test).to_csv(f\"../data/test.csv\", header=False, index=False)"
   ]
  },
  {
   "cell_type": "code",
   "execution_count": null,
   "metadata": {},
   "outputs": [],
   "source": []
  },
  {
   "cell_type": "code",
   "execution_count": null,
   "metadata": {},
   "outputs": [],
   "source": [
    "\n",
    "framework_version = \"0.23-1\"\n",
    "\n",
    "sklearn_processor = SKLearnProcessor(\n",
    "    framework_version=framework_version,\n",
    "    instance_type=processing_instance_type,\n",
    "    instance_count=processing_instance_count,\n",
    "    base_job_name=\"sklearn-abalone-process\",\n",
    "    role=role,\n",
    ")"
   ]
  }
 ],
 "metadata": {
  "kernelspec": {
   "display_name": "Python 3 (ipykernel)",
   "language": "python",
   "name": "python3"
  },
  "language_info": {
   "codemirror_mode": {
    "name": "ipython",
    "version": 3
   },
   "file_extension": ".py",
   "mimetype": "text/x-python",
   "name": "python",
   "nbconvert_exporter": "python",
   "pygments_lexer": "ipython3",
   "version": "3.9.6"
  }
 },
 "nbformat": 4,
 "nbformat_minor": 1
}