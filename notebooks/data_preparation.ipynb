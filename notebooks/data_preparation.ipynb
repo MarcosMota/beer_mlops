{
 "cells": [
  {
   "cell_type": "code",
   "execution_count": 69,
   "id": "8cb99362",
   "metadata": {},
   "outputs": [],
   "source": [
    "from pyathena import connect\n",
    "import pandas as pd\n",
    "import boto3\n",
    "from argparse import Namespace\n",
    "import os\n",
    "from sklearn.model_selection import train_test_split\n"
   ]
  },
  {
   "cell_type": "code",
   "execution_count": 71,
   "id": "86dd02da",
   "metadata": {},
   "outputs": [],
   "source": [
    "args = Namespace(\n",
    "    project_name = 'beer',\n",
    "    aws_region = 'us-east-1',\n",
    "    test_size = 0.25\n",
    ")"
   ]
  },
  {
   "cell_type": "code",
   "execution_count": 8,
   "id": "45be8f49",
   "metadata": {},
   "outputs": [
    {
     "data": {
      "text/html": [
       "<div>\n",
       "<style scoped>\n",
       "    .dataframe tbody tr th:only-of-type {\n",
       "        vertical-align: middle;\n",
       "    }\n",
       "\n",
       "    .dataframe tbody tr th {\n",
       "        vertical-align: top;\n",
       "    }\n",
       "\n",
       "    .dataframe thead th {\n",
       "        text-align: right;\n",
       "    }\n",
       "</style>\n",
       "<table border=\"1\" class=\"dataframe\">\n",
       "  <thead>\n",
       "    <tr style=\"text-align: right;\">\n",
       "      <th></th>\n",
       "      <th>id</th>\n",
       "      <th>name</th>\n",
       "      <th>ibu</th>\n",
       "      <th>target_fg</th>\n",
       "      <th>target_og</th>\n",
       "      <th>ebc</th>\n",
       "      <th>srm</th>\n",
       "      <th>ph</th>\n",
       "    </tr>\n",
       "  </thead>\n",
       "  <tbody>\n",
       "    <tr>\n",
       "      <th>0</th>\n",
       "      <td>128</td>\n",
       "      <td>White Noise</td>\n",
       "      <td>50.0</td>\n",
       "      <td>1012.0</td>\n",
       "      <td>1060.0</td>\n",
       "      <td>30.0</td>\n",
       "      <td>15.0</td>\n",
       "      <td>4.4</td>\n",
       "    </tr>\n",
       "    <tr>\n",
       "      <th>1</th>\n",
       "      <td>304</td>\n",
       "      <td>Karma Cloud</td>\n",
       "      <td>50.0</td>\n",
       "      <td>1010.0</td>\n",
       "      <td>1060.0</td>\n",
       "      <td>35.0</td>\n",
       "      <td>18.0</td>\n",
       "      <td>4.4</td>\n",
       "    </tr>\n",
       "    <tr>\n",
       "      <th>2</th>\n",
       "      <td>273</td>\n",
       "      <td>Prototype Double IPA</td>\n",
       "      <td>60.0</td>\n",
       "      <td>1007.0</td>\n",
       "      <td>1073.0</td>\n",
       "      <td>15.0</td>\n",
       "      <td>8.0</td>\n",
       "      <td>4.2</td>\n",
       "    </tr>\n",
       "    <tr>\n",
       "      <th>3</th>\n",
       "      <td>117</td>\n",
       "      <td>Hop Rocker</td>\n",
       "      <td>40.0</td>\n",
       "      <td>1010.0</td>\n",
       "      <td>1052.0</td>\n",
       "      <td>25.0</td>\n",
       "      <td>12.0</td>\n",
       "      <td>4.2</td>\n",
       "    </tr>\n",
       "    <tr>\n",
       "      <th>4</th>\n",
       "      <td>14</td>\n",
       "      <td>Alpha Dog</td>\n",
       "      <td>42.0</td>\n",
       "      <td>1025.0</td>\n",
       "      <td>1046.0</td>\n",
       "      <td>62.0</td>\n",
       "      <td>31.0</td>\n",
       "      <td>4.4</td>\n",
       "    </tr>\n",
       "  </tbody>\n",
       "</table>\n",
       "</div>"
      ],
      "text/plain": [
       "    id                  name   ibu  target_fg  target_og   ebc   srm   ph\n",
       "0  128           White Noise  50.0     1012.0     1060.0  30.0  15.0  4.4\n",
       "1  304           Karma Cloud  50.0     1010.0     1060.0  35.0  18.0  4.4\n",
       "2  273  Prototype Double IPA  60.0     1007.0     1073.0  15.0   8.0  4.2\n",
       "3  117            Hop Rocker  40.0     1010.0     1052.0  25.0  12.0  4.2\n",
       "4   14             Alpha Dog  42.0     1025.0     1046.0  62.0  31.0  4.4"
      ]
     },
     "execution_count": 8,
     "metadata": {},
     "output_type": "execute_result"
    }
   ],
   "source": [
    "conn = connect(s3_staging_dir=f's3://{args.project_name}-transformed',\n",
    "               region_name='us-east-1')\n",
    "\n",
    "df = pd.read_sql(f'SELECT * FROM \"{args.project_name}-db\".\"{args.project_name}-table\" limit 1000;', conn)\n",
    "df.head()"
   ]
  },
  {
   "cell_type": "code",
   "execution_count": 10,
   "id": "53ca5c5c",
   "metadata": {},
   "outputs": [
    {
     "data": {
      "text/plain": [
       "458"
      ]
     },
     "execution_count": 10,
     "metadata": {},
     "output_type": "execute_result"
    }
   ],
   "source": [
    "print(f'Total de dados {len(df)}')"
   ]
  },
  {
   "cell_type": "code",
   "execution_count": 47,
   "id": "e385cd76",
   "metadata": {},
   "outputs": [
    {
     "data": {
      "text/plain": [
       "247"
      ]
     },
     "execution_count": 47,
     "metadata": {},
     "output_type": "execute_result"
    }
   ],
   "source": [
    "len(df['name'].unique())"
   ]
  },
  {
   "cell_type": "markdown",
   "id": "6abe9953",
   "metadata": {},
   "source": [
    "## Selecionar colunas"
   ]
  },
  {
   "cell_type": "code",
   "execution_count": 58,
   "id": "610a4fae",
   "metadata": {},
   "outputs": [],
   "source": [
    "df = df[['ibu','target_fg','target_og','ebc','srm','ph']]"
   ]
  },
  {
   "cell_type": "markdown",
   "id": "eb454258",
   "metadata": {},
   "source": [
    "## Dados nulos"
   ]
  },
  {
   "cell_type": "code",
   "execution_count": 65,
   "id": "fc983dec",
   "metadata": {},
   "outputs": [
    {
     "data": {
      "text/plain": [
       "ibu          0\n",
       "target_fg    0\n",
       "target_og    0\n",
       "ebc          0\n",
       "srm          0\n",
       "ph           0\n",
       "dtype: int64"
      ]
     },
     "execution_count": 65,
     "metadata": {},
     "output_type": "execute_result"
    }
   ],
   "source": [
    "df.isna().sum()"
   ]
  },
  {
   "cell_type": "code",
   "execution_count": 63,
   "id": "376db27e",
   "metadata": {},
   "outputs": [],
   "source": [
    "df = df.dropna()"
   ]
  },
  {
   "cell_type": "code",
   "execution_count": 64,
   "id": "6e549581",
   "metadata": {},
   "outputs": [
    {
     "data": {
      "text/plain": [
       "448"
      ]
     },
     "execution_count": 64,
     "metadata": {},
     "output_type": "execute_result"
    }
   ],
   "source": [
    "len(df)"
   ]
  },
  {
   "cell_type": "markdown",
   "id": "2f37a812",
   "metadata": {},
   "source": [
    "## Separar dataset de treinamento e teste"
   ]
  },
  {
   "cell_type": "code",
   "execution_count": 30,
   "id": "6b057b66",
   "metadata": {},
   "outputs": [],
   "source": [
    "def bucketExist(bucket_name) -> bool:\n",
    "    s3 = boto3.client('s3')\n",
    "    buckets = s3.list_buckets()\n",
    "    return any(bucket['Name'] == bucket_name for bucket in buckets)"
   ]
  },
  {
   "cell_type": "code",
   "execution_count": 66,
   "id": "e8e80b19",
   "metadata": {},
   "outputs": [],
   "source": [
    "if not bucketExist(f'{args.project_name}-data-preparation'):\n",
    "    s3 = boto3.client('s3')\n",
    "    s3.create_bucket(Bucket=f'{args.project_name}-data-preparation')"
   ]
  },
  {
   "cell_type": "code",
   "execution_count": 73,
   "id": "1b9928c3",
   "metadata": {},
   "outputs": [],
   "source": [
    "df_train = df.sample(frac = args.test_size, random_state = 42)\n",
    "df_test = df.drop(df_train.index)"
   ]
  },
  {
   "cell_type": "code",
   "execution_count": 74,
   "id": "e274cde7",
   "metadata": {},
   "outputs": [
    {
     "data": {
      "text/plain": [
       "112"
      ]
     },
     "execution_count": 74,
     "metadata": {},
     "output_type": "execute_result"
    }
   ],
   "source": [
    "len(df_train)"
   ]
  },
  {
   "cell_type": "code",
   "execution_count": 79,
   "id": "98295386",
   "metadata": {},
   "outputs": [],
   "source": [
    "import s3fs\n",
    "\n",
    "s3 = s3fs.S3FileSystem(anon=False)\n",
    "\n",
    "# Use 'w' for py3, 'wb' for py2\n",
    "with s3.open(f'{args.project_name}-data-preparation/train.csv','w') as f:\n",
    "    df_train.to_csv(f)"
   ]
  },
  {
   "cell_type": "code",
   "execution_count": 80,
   "id": "0425e2d1",
   "metadata": {},
   "outputs": [],
   "source": [
    "with s3.open(f'{args.project_name}-data-preparation/test.csv','w') as f:\n",
    "    df_test.to_csv(f)"
   ]
  },
  {
   "cell_type": "code",
   "execution_count": null,
   "id": "beddb398",
   "metadata": {},
   "outputs": [],
   "source": []
  }
 ],
 "metadata": {
  "kernelspec": {
   "display_name": "conda_pytorch_p36",
   "language": "python",
   "name": "conda_pytorch_p36"
  },
  "language_info": {
   "codemirror_mode": {
    "name": "ipython",
    "version": 3
   },
   "file_extension": ".py",
   "mimetype": "text/x-python",
   "name": "python",
   "nbconvert_exporter": "python",
   "pygments_lexer": "ipython3",
   "version": "3.6.13"
  }
 },
 "nbformat": 4,
 "nbformat_minor": 5
}